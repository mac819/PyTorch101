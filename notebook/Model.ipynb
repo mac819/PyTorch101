{
 "cells": [
  {
   "cell_type": "markdown",
   "id": "df7a55a7",
   "metadata": {
    "toc": true
   },
   "source": [
    "<h1>Table of Contents<span class=\"tocSkip\"></span></h1>\n",
    "<div class=\"toc\"><ul class=\"toc-item\"><li><span><a href=\"#Models\" data-toc-modified-id=\"Models-1\"><span class=\"toc-item-num\">1&nbsp;&nbsp;</span>Models</a></span></li><li><span><a href=\"#Layers\" data-toc-modified-id=\"Layers-2\"><span class=\"toc-item-num\">2&nbsp;&nbsp;</span>Layers</a></span><ul class=\"toc-item\"><li><span><a href=\"#Naming-Layers\" data-toc-modified-id=\"Naming-Layers-2.1\"><span class=\"toc-item-num\">2.1&nbsp;&nbsp;</span>Naming Layers</a></span></li></ul></li></ul></div>"
   ]
  },
  {
   "cell_type": "code",
   "execution_count": 2,
   "id": "8c7d5696",
   "metadata": {},
   "outputs": [],
   "source": [
    "import warnings\n",
    "warnings.filterwarnings('ignore')"
   ]
  },
  {
   "cell_type": "code",
   "execution_count": 23,
   "id": "71d0994f",
   "metadata": {},
   "outputs": [],
   "source": [
    "import torch\n",
    "import torch.nn as nn\n",
    "import torch.optim as optim\n",
    "\n",
    "from tqdm import tqdm"
   ]
  },
  {
   "cell_type": "code",
   "execution_count": 6,
   "id": "a5bd2883",
   "metadata": {},
   "outputs": [
    {
     "name": "stdout",
     "output_type": "stream",
     "text": [
      "Device: cpu\n"
     ]
    }
   ],
   "source": [
    "device = \"cuda\" if torch.cuda.is_available() else \"cpu\"\n",
    "print(f\"Device: {device}\")"
   ]
  },
  {
   "cell_type": "markdown",
   "id": "bdef44be",
   "metadata": {},
   "source": [
    "## Models"
   ]
  },
  {
   "cell_type": "markdown",
   "id": "42193b35",
   "metadata": {},
   "source": [
    "`Creating model by using nn.Parameter method`"
   ]
  },
  {
   "cell_type": "code",
   "execution_count": 13,
   "id": "1c1f4fd9",
   "metadata": {},
   "outputs": [],
   "source": [
    "# Multilinear Regression Model\n",
    "class MultiLinearRegression(nn.Module):\n",
    "    \n",
    "    def __init__(self):\n",
    "        super().__init__()\n",
    "        \n",
    "        self.w = nn.Parameter(torch.randn((1, 2), requires_grad=True, dtype=torch.float))\n",
    "        self.b = nn.Parameter(torch.randn(1, requires_grad=True, dtype=torch.float))\n",
    "        \n",
    "    def forward(self, x):\n",
    "        \n",
    "        y_hat = torch.add(self.b, torch.matmul(self.w, torch.t(x)))\n",
    "        \n",
    "        return y_hat"
   ]
  },
  {
   "cell_type": "code",
   "execution_count": 25,
   "id": "4bec3af3",
   "metadata": {},
   "outputs": [
    {
     "name": "stdout",
     "output_type": "stream",
     "text": [
      "tensor([2., 5.]) tensor(1.)\n"
     ]
    }
   ],
   "source": [
    "# True Values\n",
    "w = torch.tensor([2, 5], dtype=torch.float, device=device)\n",
    "b = torch.tensor(1, dtype=torch.float, device=device)\n",
    "print(w, b)"
   ]
  },
  {
   "cell_type": "code",
   "execution_count": 26,
   "id": "406825db",
   "metadata": {},
   "outputs": [
    {
     "name": "stdout",
     "output_type": "stream",
     "text": [
      "torch.Size([100])\n"
     ]
    }
   ],
   "source": [
    "x = torch.randn((100, 2), dtype=torch.float, device=device)\n",
    "y = torch.add(b, torch.matmul(w, torch.t(x)))\n",
    "print(y.shape)"
   ]
  },
  {
   "cell_type": "code",
   "execution_count": 27,
   "id": "4ecae856",
   "metadata": {},
   "outputs": [
    {
     "name": "stdout",
     "output_type": "stream",
     "text": [
      "OrderedDict([('w', tensor([[-0.2245, -0.1999]])), ('b', tensor([1.7617]))])\n"
     ]
    }
   ],
   "source": [
    "regression_model = MultiLinearRegression()\n",
    "print(regression_model.state_dict())"
   ]
  },
  {
   "cell_type": "code",
   "execution_count": 28,
   "id": "102cee25",
   "metadata": {},
   "outputs": [],
   "source": [
    "optimizer = optim.SGD(regression_model.parameters(), lr=0.001)\n",
    "loss_fn = nn.MSELoss(reduction=\"mean\")"
   ]
  },
  {
   "cell_type": "code",
   "execution_count": 29,
   "id": "557c35f2",
   "metadata": {},
   "outputs": [
    {
     "name": "stderr",
     "output_type": "stream",
     "text": [
      "100%|██████████████████████████████████████████████████████████████████████████████████████████████████████████████████████████████████████████████████████████████████████| 10000/10000 [00:00<00:00, 16915.16it/s]"
     ]
    },
    {
     "name": "stdout",
     "output_type": "stream",
     "text": [
      "OrderedDict([('w', tensor([[2.0001, 4.9998]])), ('b', tensor([1.0001]))])\n"
     ]
    },
    {
     "name": "stderr",
     "output_type": "stream",
     "text": [
      "\n"
     ]
    }
   ],
   "source": [
    "n_epochs = 10000\n",
    "\n",
    "for epoch in tqdm(range(n_epochs)):\n",
    "    \n",
    "    # Setting training mode\n",
    "    regression_model.train()\n",
    "    \n",
    "    y_hat = regression_model(x)\n",
    "    loss = loss_fn(y_hat, y)\n",
    "    \n",
    "    loss.backward()\n",
    "    \n",
    "    optimizer.step()\n",
    "    \n",
    "    optimizer.zero_grad()\n",
    "    \n",
    "print(regression_model.state_dict())"
   ]
  },
  {
   "cell_type": "markdown",
   "id": "68f352c5",
   "metadata": {},
   "source": [
    "`Creating Linear Regression Model Using nn.Linear module`"
   ]
  },
  {
   "cell_type": "code",
   "execution_count": 63,
   "id": "21ee803a",
   "metadata": {},
   "outputs": [],
   "source": [
    "class MultiLinearRegression1(nn.Module):\n",
    "    \n",
    "    def __init__(self):\n",
    "        super().__init__()\n",
    "        \n",
    "        self.linear = nn.Linear(2, 1)\n",
    "        \n",
    "    def forward(self, x):\n",
    "        \n",
    "        return self.linear(x)"
   ]
  },
  {
   "cell_type": "code",
   "execution_count": 64,
   "id": "48f0aea3",
   "metadata": {},
   "outputs": [],
   "source": [
    "model_1 = MultiLinearRegression1()"
   ]
  },
  {
   "cell_type": "code",
   "execution_count": 65,
   "id": "e9cb4d08",
   "metadata": {},
   "outputs": [],
   "source": [
    "optimizer = optim.SGD(model_1.parameters(), lr=0.001)\n",
    "loss_fn = nn.MSELoss(reduction=\"mean\")"
   ]
  },
  {
   "cell_type": "code",
   "execution_count": 66,
   "id": "b212c86c",
   "metadata": {},
   "outputs": [
    {
     "name": "stderr",
     "output_type": "stream",
     "text": [
      "100%|██████████████████████████████████████████████████████████████████████████████████████████████████████████████████████████████████████████████████████████████████████| 10000/10000 [00:00<00:00, 15360.98it/s]"
     ]
    },
    {
     "name": "stdout",
     "output_type": "stream",
     "text": [
      "OrderedDict([('linear.weight', tensor([[2.0001, 4.9998]])), ('linear.bias', tensor([1.0001]))])\n"
     ]
    },
    {
     "name": "stderr",
     "output_type": "stream",
     "text": [
      "\n"
     ]
    }
   ],
   "source": [
    "n_epochs = 10000\n",
    "\n",
    "for epoch in tqdm(range(n_epochs)):\n",
    "    \n",
    "    model_1.train()\n",
    "    \n",
    "    y_hat = torch.reshape(model_1(x), (1, -1))\n",
    "    loss = loss_fn(y_hat, y)\n",
    "    \n",
    "    loss.backward()\n",
    "    \n",
    "    optimizer.step()\n",
    "    \n",
    "    optimizer.zero_grad()\n",
    "    \n",
    "print(model_1.state_dict())"
   ]
  },
  {
   "cell_type": "code",
   "execution_count": 67,
   "id": "d6b494ec",
   "metadata": {},
   "outputs": [
    {
     "data": {
      "text/plain": [
       "OrderedDict([('w', tensor([[2.0001, 4.9998]])), ('b', tensor([1.0001]))])"
      ]
     },
     "execution_count": 67,
     "metadata": {},
     "output_type": "execute_result"
    }
   ],
   "source": [
    "regression_model.state_dict()"
   ]
  },
  {
   "cell_type": "code",
   "execution_count": 68,
   "id": "d49711bb",
   "metadata": {},
   "outputs": [
    {
     "data": {
      "text/plain": [
       "OrderedDict([('linear.weight', tensor([[2.0001, 4.9998]])),\n",
       "             ('linear.bias', tensor([1.0001]))])"
      ]
     },
     "execution_count": 68,
     "metadata": {},
     "output_type": "execute_result"
    }
   ],
   "source": [
    "model_1.state_dict()"
   ]
  },
  {
   "cell_type": "code",
   "execution_count": null,
   "id": "a47427eb",
   "metadata": {},
   "outputs": [],
   "source": []
  },
  {
   "cell_type": "markdown",
   "id": "ac31084d",
   "metadata": {},
   "source": [
    "## Layers"
   ]
  },
  {
   "cell_type": "code",
   "execution_count": 69,
   "id": "0d3b67b1",
   "metadata": {},
   "outputs": [
    {
     "name": "stdout",
     "output_type": "stream",
     "text": [
      "OrderedDict([('0.weight', tensor([[-0.6252, -0.6829],\n",
      "        [-0.3902, -0.3324]])), ('0.bias', tensor([-0.5499,  0.1305])), ('1.weight', tensor([[ 0.0310,  0.4149, -0.1919,  0.4171, -0.4373]])), ('1.bias', tensor([-0.3525]))])\n"
     ]
    }
   ],
   "source": [
    "model = nn.Sequential(nn.Linear(2, 2), nn.Linear(5, 1)).to(device)\n",
    "print(model.state_dict())"
   ]
  },
  {
   "cell_type": "markdown",
   "id": "7436f305",
   "metadata": {},
   "source": [
    "### Naming Layers"
   ]
  },
  {
   "cell_type": "code",
   "execution_count": 70,
   "id": "56a11556",
   "metadata": {},
   "outputs": [
    {
     "name": "stdout",
     "output_type": "stream",
     "text": [
      "Sequential(\n",
      "  (layer1): Linear(in_features=3, out_features=5, bias=True)\n",
      "  (layer2): Linear(in_features=5, out_features=1, bias=True)\n",
      ")\n"
     ]
    }
   ],
   "source": [
    "torch.manual_seed(42)\n",
    "# Building the model from the figure above\n",
    "model = nn.Sequential()\n",
    "model.add_module('layer1', nn.Linear(3, 5))\n",
    "model.add_module('layer2', nn.Linear(5, 1))\n",
    "print(model.to(device))"
   ]
  },
  {
   "cell_type": "code",
   "execution_count": null,
   "id": "fe214ab6",
   "metadata": {},
   "outputs": [],
   "source": []
  }
 ],
 "metadata": {
  "kernelspec": {
   "display_name": "Python [conda env:pytorch] *",
   "language": "python",
   "name": "conda-env-pytorch-py"
  },
  "language_info": {
   "codemirror_mode": {
    "name": "ipython",
    "version": 3
   },
   "file_extension": ".py",
   "mimetype": "text/x-python",
   "name": "python",
   "nbconvert_exporter": "python",
   "pygments_lexer": "ipython3",
   "version": "3.8.13"
  },
  "toc": {
   "base_numbering": 1,
   "nav_menu": {},
   "number_sections": true,
   "sideBar": true,
   "skip_h1_title": false,
   "title_cell": "Table of Contents",
   "title_sidebar": "Contents",
   "toc_cell": true,
   "toc_position": {
    "height": "calc(100% - 180px)",
    "left": "10px",
    "top": "150px",
    "width": "165px"
   },
   "toc_section_display": true,
   "toc_window_display": true
  }
 },
 "nbformat": 4,
 "nbformat_minor": 5
}
