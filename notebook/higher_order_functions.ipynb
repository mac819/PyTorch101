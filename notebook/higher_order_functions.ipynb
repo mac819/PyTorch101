{
 "cells": [
  {
   "cell_type": "markdown",
   "id": "65720745",
   "metadata": {
    "toc": true
   },
   "source": [
    "<h1>Table of Contents<span class=\"tocSkip\"></span></h1>\n",
    "<div class=\"toc\"><ul class=\"toc-item\"><li><span><a href=\"#Imports\" data-toc-modified-id=\"Imports-1\"><span class=\"toc-item-num\">1&nbsp;&nbsp;</span>Imports</a></span></li><li><span><a href=\"#Dummy-Data\" data-toc-modified-id=\"Dummy-Data-2\"><span class=\"toc-item-num\">2&nbsp;&nbsp;</span>Dummy Data</a></span></li><li><span><a href=\"#Model\" data-toc-modified-id=\"Model-3\"><span class=\"toc-item-num\">3&nbsp;&nbsp;</span>Model</a></span></li><li><span><a href=\"#Training-Loop\" data-toc-modified-id=\"Training-Loop-4\"><span class=\"toc-item-num\">4&nbsp;&nbsp;</span>Training Loop</a></span></li></ul></div>"
   ]
  },
  {
   "cell_type": "markdown",
   "id": "ac5a0342",
   "metadata": {},
   "source": [
    "## Imports"
   ]
  },
  {
   "cell_type": "code",
   "execution_count": 1,
   "id": "a1b0d291",
   "metadata": {},
   "outputs": [],
   "source": [
    "import torch\n",
    "import torch.nn as nn\n",
    "import torch.optim as optim\n",
    "from torch.utils.data import TensorDataset, Dataset, DataLoader"
   ]
  },
  {
   "cell_type": "code",
   "execution_count": 3,
   "id": "950f6053",
   "metadata": {},
   "outputs": [
    {
     "name": "stdout",
     "output_type": "stream",
     "text": [
      "Device: cpu\n"
     ]
    }
   ],
   "source": [
    "device = \"cuda\" if torch.cuda.is_available() else \"cpu\"\n",
    "print(f\"Device: {device}\")"
   ]
  },
  {
   "cell_type": "markdown",
   "id": "46bc940e",
   "metadata": {},
   "source": [
    "## Dummy Data"
   ]
  },
  {
   "cell_type": "code",
   "execution_count": 24,
   "id": "aba955be",
   "metadata": {},
   "outputs": [
    {
     "name": "stdout",
     "output_type": "stream",
     "text": [
      "torch.Size([100])\n"
     ]
    }
   ],
   "source": [
    "w = torch.tensor([2, 5], dtype=torch.float, device=device)\n",
    "b = torch.tensor(1, dtype=torch.float, device=device)\n",
    "\n",
    "x = torch.randn((100, 2), dtype=torch.float, device=device)\n",
    "y = torch.add(b, torch.matmul(w, torch.t(x)))\n",
    "print(y.size())"
   ]
  },
  {
   "cell_type": "markdown",
   "id": "4e348936",
   "metadata": {},
   "source": [
    "## Model"
   ]
  },
  {
   "cell_type": "code",
   "execution_count": 68,
   "id": "7e0593d2",
   "metadata": {},
   "outputs": [],
   "source": [
    "class MultiLInearRegression(nn.Module):\n",
    "    \n",
    "    def __init__(self):\n",
    "        super().__init__()\n",
    "        \n",
    "        self.w = nn.Parameter(torch.randn((1, 2), dtype=torch.float, requires_grad=True))\n",
    "        self.b = nn.Parameter(torch.randn(1, dtype=torch.float, requires_grad=True))\n",
    "        \n",
    "    def forward(self, x):\n",
    "        \n",
    "        return torch.squeeze(torch.add(self.b, torch.matmul(self.w, torch.t(x))))"
   ]
  },
  {
   "cell_type": "markdown",
   "id": "fd34f318",
   "metadata": {},
   "source": [
    "## Training Loop"
   ]
  },
  {
   "cell_type": "code",
   "execution_count": 69,
   "id": "7f2eb409",
   "metadata": {},
   "outputs": [],
   "source": [
    "def train_model(model, loss_fn, optimizer):\n",
    "    def train_step(x, y):    \n",
    "        model.train()\n",
    "\n",
    "        y_hat = model(x)\n",
    "        loss = loss_fn(y_hat, y)\n",
    "        loss.backward()\n",
    "\n",
    "        optimizer.step()\n",
    "\n",
    "        optimizer.zero_grad()\n",
    "\n",
    "        return loss.item()\n",
    "    return train_step"
   ]
  },
  {
   "cell_type": "code",
   "execution_count": 70,
   "id": "f184dbf4",
   "metadata": {},
   "outputs": [],
   "source": [
    "model = MultiLInearRegression()\n",
    "optimizer = optim.SGD(model.parameters(), lr=0.001)\n",
    "loss_fn = nn.MSELoss(reduction=\"mean\")\n",
    "\n",
    "model_train_step = train_model(model=model, loss_fn=loss_fn, optimizer=optimizer)"
   ]
  },
  {
   "cell_type": "code",
   "execution_count": 71,
   "id": "4ef9034a",
   "metadata": {},
   "outputs": [
    {
     "name": "stdout",
     "output_type": "stream",
     "text": [
      "OrderedDict([('w', tensor([[-0.4021, -1.6240]])), ('b', tensor([-2.0992]))])\n"
     ]
    }
   ],
   "source": [
    "print(model.state_dict())"
   ]
  },
  {
   "cell_type": "code",
   "execution_count": 83,
   "id": "4c22d402",
   "metadata": {},
   "outputs": [
    {
     "name": "stdout",
     "output_type": "stream",
     "text": [
      "OrderedDict([('w', tensor([[2.0000, 4.9999]])), ('b', tensor([1.0000]))])\n"
     ]
    }
   ],
   "source": [
    "n_epochs = 1000\n",
    "iter_loss = []\n",
    "for epoch in range(n_epochs):\n",
    "    \n",
    "    loss = model_train_step(x, y)\n",
    "    iter_loss.append(loss)\n",
    "    \n",
    "print(model.state_dict())"
   ]
  },
  {
   "cell_type": "code",
   "execution_count": null,
   "id": "9641c175",
   "metadata": {},
   "outputs": [],
   "source": []
  },
  {
   "cell_type": "code",
   "execution_count": null,
   "id": "ecaf0daa",
   "metadata": {},
   "outputs": [],
   "source": []
  },
  {
   "cell_type": "code",
   "execution_count": null,
   "id": "23b0f723",
   "metadata": {},
   "outputs": [],
   "source": []
  },
  {
   "cell_type": "code",
   "execution_count": null,
   "id": "0f87bc46",
   "metadata": {},
   "outputs": [],
   "source": []
  },
  {
   "cell_type": "code",
   "execution_count": null,
   "id": "a5f9eabc",
   "metadata": {},
   "outputs": [],
   "source": []
  }
 ],
 "metadata": {
  "kernelspec": {
   "display_name": "Python [conda env:pytorch] *",
   "language": "python",
   "name": "conda-env-pytorch-py"
  },
  "language_info": {
   "codemirror_mode": {
    "name": "ipython",
    "version": 3
   },
   "file_extension": ".py",
   "mimetype": "text/x-python",
   "name": "python",
   "nbconvert_exporter": "python",
   "pygments_lexer": "ipython3",
   "version": "3.8.13"
  },
  "toc": {
   "base_numbering": 1,
   "nav_menu": {},
   "number_sections": true,
   "sideBar": true,
   "skip_h1_title": false,
   "title_cell": "Table of Contents",
   "title_sidebar": "Contents",
   "toc_cell": true,
   "toc_position": {
    "height": "calc(100% - 180px)",
    "left": "10px",
    "top": "150px",
    "width": "165px"
   },
   "toc_section_display": true,
   "toc_window_display": true
  }
 },
 "nbformat": 4,
 "nbformat_minor": 5
}
