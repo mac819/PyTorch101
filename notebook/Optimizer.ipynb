{
 "cells": [
  {
   "cell_type": "markdown",
   "id": "8e9240fa",
   "metadata": {
    "toc": true
   },
   "source": [
    "<h1>Table of Contents<span class=\"tocSkip\"></span></h1>\n",
    "<div class=\"toc\"><ul class=\"toc-item\"><li><span><a href=\"#Optimizer\" data-toc-modified-id=\"Optimizer-1\"><span class=\"toc-item-num\">1&nbsp;&nbsp;</span>Optimizer</a></span><ul class=\"toc-item\"><li><span><a href=\"#Creating-dummy-data\" data-toc-modified-id=\"Creating-dummy-data-1.1\"><span class=\"toc-item-num\">1.1&nbsp;&nbsp;</span>Creating dummy data</a></span></li><li><span><a href=\"#Creating-Parameters\" data-toc-modified-id=\"Creating-Parameters-1.2\"><span class=\"toc-item-num\">1.2&nbsp;&nbsp;</span>Creating Parameters</a></span></li></ul></li><li><span><a href=\"#Loss\" data-toc-modified-id=\"Loss-2\"><span class=\"toc-item-num\">2&nbsp;&nbsp;</span>Loss</a></span></li></ul></div>"
   ]
  },
  {
   "cell_type": "code",
   "execution_count": 1,
   "id": "8590edec",
   "metadata": {},
   "outputs": [],
   "source": [
    "import warnings\n",
    "warnings.filterwarnings('ignore')"
   ]
  },
  {
   "cell_type": "code",
   "execution_count": 46,
   "id": "428bd0b6",
   "metadata": {},
   "outputs": [],
   "source": [
    "from tqdm import tqdm\n",
    "\n",
    "import torch\n",
    "import torch.nn as nn\n",
    "from torch import optim"
   ]
  },
  {
   "cell_type": "code",
   "execution_count": 47,
   "id": "5feb76e5",
   "metadata": {},
   "outputs": [
    {
     "name": "stdout",
     "output_type": "stream",
     "text": [
      "Device: cpu\n"
     ]
    }
   ],
   "source": [
    "device = \"cuda\" if torch.cuda.is_available() else \"cpu\"\n",
    "print(f\"Device: {device}\")"
   ]
  },
  {
   "cell_type": "markdown",
   "id": "11b2e4b8",
   "metadata": {},
   "source": [
    "## Optimizer"
   ]
  },
  {
   "cell_type": "markdown",
   "id": "e91800d3",
   "metadata": {},
   "source": [
    "- `In Autograd, trainable parameters were updated one-by-one. If model becomes big then it will become cumbersome to track all the parameters and update it in each iteration.`\n",
    "- `PyTorch provides different optimizer functions like: SGD, RMSprop, Adam etc through which we can update the parameters without acknowledging them seperately. Optimizers will take care of them internally`\n",
    "- `We need to provide them the list of parameters and it's required arguments`\n",
    "- `Optimizer function uses step() method to update the parameters and zero_grad() to reset the gradients`"
   ]
  },
  {
   "cell_type": "code",
   "execution_count": 4,
   "id": "6bd30245",
   "metadata": {},
   "outputs": [],
   "source": [
    "w = torch.tensor([2, 5], dtype=torch.float, device=device)\n",
    "b = torch.tensor(1, dtype=torch.float, device=device)"
   ]
  },
  {
   "cell_type": "markdown",
   "id": "9306ba92",
   "metadata": {},
   "source": [
    "### Creating dummy data"
   ]
  },
  {
   "cell_type": "code",
   "execution_count": 9,
   "id": "0d22c8d9",
   "metadata": {},
   "outputs": [
    {
     "name": "stdout",
     "output_type": "stream",
     "text": [
      "torch.Size([100, 2]) torch.Size([100])\n"
     ]
    }
   ],
   "source": [
    "# Data Points\n",
    "torch.manual_seed(42)\n",
    "x = torch.randn((100, 2), dtype=torch.float, device=device)\n",
    "y = torch.add(b, torch.matmul(w, torch.t(x)))\n",
    "print(x.shape, y.shape)"
   ]
  },
  {
   "cell_type": "markdown",
   "id": "b77c4385",
   "metadata": {},
   "source": [
    "### Creating Parameters"
   ]
  },
  {
   "cell_type": "code",
   "execution_count": 42,
   "id": "de6d50e0",
   "metadata": {},
   "outputs": [],
   "source": [
    "pt_w = torch.randn((1, 2), dtype=torch.float, requires_grad=True, device=device)\n",
    "pt_b = torch.randn((1), dtype=torch.float, requires_grad=True, device=device)"
   ]
  },
  {
   "cell_type": "code",
   "execution_count": 43,
   "id": "0602818a",
   "metadata": {},
   "outputs": [],
   "source": [
    "n_epochs = 10000\n",
    "lr = 0.01"
   ]
  },
  {
   "cell_type": "code",
   "execution_count": 44,
   "id": "3358aeaf",
   "metadata": {},
   "outputs": [],
   "source": [
    "optimizer = optim.SGD([pt_b, pt_w], lr=lr)"
   ]
  },
  {
   "cell_type": "code",
   "execution_count": 45,
   "id": "25b25b61",
   "metadata": {},
   "outputs": [
    {
     "name": "stderr",
     "output_type": "stream",
     "text": [
      "100%|█████████████████████████████████████████████████████████████████████████████████████████████████████████████████████████████████████████████████████| 10000/10000 [00:00<00:00, 16698.79it/s]"
     ]
    },
    {
     "name": "stdout",
     "output_type": "stream",
     "text": [
      "tensor([[2.0000, 5.0000]], requires_grad=True) tensor([1.0000], requires_grad=True)\n"
     ]
    },
    {
     "name": "stderr",
     "output_type": "stream",
     "text": [
      "\n"
     ]
    }
   ],
   "source": [
    "for epochs in tqdm(range(n_epochs)):\n",
    "    \n",
    "    # Forward Pass\n",
    "    y_hat = torch.add(pt_b, torch.matmul(pt_w, torch.t(x)))\n",
    "    error = (y_hat - y)\n",
    "    loss = (error**2).mean()\n",
    "    \n",
    "    # Backward Pass\n",
    "    loss.backward()\n",
    "    \n",
    "    # Updating Parameters\n",
    "    optimizer.step()\n",
    "    \n",
    "    # Resetting gradients\n",
    "    optimizer.zero_grad()\n",
    "\n",
    "print(pt_w, pt_b)"
   ]
  },
  {
   "cell_type": "markdown",
   "id": "6a96f6e4",
   "metadata": {},
   "source": [
    "## Loss"
   ]
  },
  {
   "cell_type": "markdown",
   "id": "37097e21",
   "metadata": {},
   "source": [
    "`Training the Regression model with PyTorch loss function`"
   ]
  },
  {
   "cell_type": "code",
   "execution_count": 48,
   "id": "5ab77f4d",
   "metadata": {},
   "outputs": [],
   "source": [
    "pt_w = torch.randn((1, 2), dtype=torch.float, requires_grad=True, device=device)\n",
    "pt_b = torch.randn((1), dtype=torch.float, requires_grad=True, device=device)"
   ]
  },
  {
   "cell_type": "code",
   "execution_count": 49,
   "id": "3df99746",
   "metadata": {},
   "outputs": [],
   "source": [
    "n_epochs = 10000\n",
    "lr = 0.01"
   ]
  },
  {
   "cell_type": "code",
   "execution_count": 50,
   "id": "d9de1ccb",
   "metadata": {},
   "outputs": [],
   "source": [
    "optimizer = optim.SGD([pt_b, pt_w], lr=lr)\n",
    "loss_fn = nn.MSELoss(reduce=\"mean\")"
   ]
  },
  {
   "cell_type": "code",
   "execution_count": 51,
   "id": "4c433600",
   "metadata": {},
   "outputs": [
    {
     "name": "stderr",
     "output_type": "stream",
     "text": [
      "100%|█████████████████████████████████████████████████████████████████████████████████████████████████████████████████████████████████████████████████████| 10000/10000 [00:00<00:00, 17829.54it/s]"
     ]
    },
    {
     "name": "stdout",
     "output_type": "stream",
     "text": [
      "tensor([[2.0000, 5.0000]], requires_grad=True) tensor([1.0000], requires_grad=True)\n"
     ]
    },
    {
     "name": "stderr",
     "output_type": "stream",
     "text": [
      "\n"
     ]
    }
   ],
   "source": [
    "for epochs in tqdm(range(n_epochs)):\n",
    "    \n",
    "    # Forward Pass\n",
    "    y_hat = torch.add(pt_b, torch.matmul(pt_w, torch.t(x)))\n",
    "    loss = loss_fn(y_hat, y)\n",
    "    \n",
    "    # Backward Pass\n",
    "    loss.backward()\n",
    "    \n",
    "    # Updating Parameters\n",
    "    optimizer.step()\n",
    "    \n",
    "    # Resetting gradients\n",
    "    optimizer.zero_grad()\n",
    "\n",
    "print(pt_w, pt_b)"
   ]
  },
  {
   "cell_type": "markdown",
   "id": "1ec4c78c",
   "metadata": {},
   "source": [
    "`For converting loss values into numpy object, we again need to detach the loss from computation graph. Unlike our data tensor, the loss tensor is actually computing gradients.`"
   ]
  },
  {
   "cell_type": "markdown",
   "id": "2ff898dc",
   "metadata": {},
   "source": [
    "`We can use loss.detach().cpu().numpy() or we can use loss.item(), loss.tolist()`"
   ]
  },
  {
   "cell_type": "code",
   "execution_count": null,
   "id": "f899c63d",
   "metadata": {},
   "outputs": [],
   "source": []
  }
 ],
 "metadata": {
  "kernelspec": {
   "display_name": "Python [conda env:pytorch] *",
   "language": "python",
   "name": "conda-env-pytorch-py"
  },
  "language_info": {
   "codemirror_mode": {
    "name": "ipython",
    "version": 3
   },
   "file_extension": ".py",
   "mimetype": "text/x-python",
   "name": "python",
   "nbconvert_exporter": "python",
   "pygments_lexer": "ipython3",
   "version": "3.8.13"
  },
  "toc": {
   "base_numbering": 1,
   "nav_menu": {},
   "number_sections": true,
   "sideBar": true,
   "skip_h1_title": false,
   "title_cell": "Table of Contents",
   "title_sidebar": "Contents",
   "toc_cell": true,
   "toc_position": {},
   "toc_section_display": true,
   "toc_window_display": true
  }
 },
 "nbformat": 4,
 "nbformat_minor": 5
}
