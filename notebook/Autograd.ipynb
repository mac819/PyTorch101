{
 "cells": [
  {
   "cell_type": "markdown",
   "id": "bbce0a08",
   "metadata": {
    "toc": true
   },
   "source": [
    "<h1>Table of Contents<span class=\"tocSkip\"></span></h1>\n",
    "<div class=\"toc\"><ul class=\"toc-item\"><li><span><a href=\"#Data-and-Model\" data-toc-modified-id=\"Data-and-Model-1\"><span class=\"toc-item-num\">1&nbsp;&nbsp;</span>Data and Model</a></span></li><li><span><a href=\"#The-backward-method\" data-toc-modified-id=\"The-backward-method-2\"><span class=\"toc-item-num\">2&nbsp;&nbsp;</span>The <code>backward</code> method</a></span><ul class=\"toc-item\"><li><span><a href=\"#The-zero_-method\" data-toc-modified-id=\"The-zero_-method-2.1\"><span class=\"toc-item-num\">2.1&nbsp;&nbsp;</span>The <code>zero_</code> method</a></span></li></ul></li><li><span><a href=\"#Updating-Parameters\" data-toc-modified-id=\"Updating-Parameters-3\"><span class=\"toc-item-num\">3&nbsp;&nbsp;</span>Updating Parameters</a></span><ul class=\"toc-item\"><li><span><a href=\"#First-Approach\" data-toc-modified-id=\"First-Approach-3.1\"><span class=\"toc-item-num\">3.1&nbsp;&nbsp;</span>First Approach</a></span></li><li><span><a href=\"#Second-Approach\" data-toc-modified-id=\"Second-Approach-3.2\"><span class=\"toc-item-num\">3.2&nbsp;&nbsp;</span>Second Approach</a></span></li><li><span><a href=\"#Third-Approach\" data-toc-modified-id=\"Third-Approach-3.3\"><span class=\"toc-item-num\">3.3&nbsp;&nbsp;</span>Third Approach</a></span></li></ul></li></ul></div>"
   ]
  },
  {
   "cell_type": "code",
   "execution_count": 1,
   "id": "72829bd6",
   "metadata": {},
   "outputs": [
    {
     "name": "stderr",
     "output_type": "stream",
     "text": [
      "/opt/homebrew/Caskroom/miniforge/base/envs/pytorch/lib/python3.8/site-packages/tqdm/auto.py:22: TqdmWarning: IProgress not found. Please update jupyter and ipywidgets. See https://ipywidgets.readthedocs.io/en/stable/user_install.html\n",
      "  from .autonotebook import tqdm as notebook_tqdm\n"
     ]
    }
   ],
   "source": [
    "import torch\n",
    "import numpy as np\n",
    "from tqdm import tqdm"
   ]
  },
  {
   "cell_type": "markdown",
   "id": "4e1770de",
   "metadata": {},
   "source": [
    "## Data and Model"
   ]
  },
  {
   "cell_type": "markdown",
   "id": "22ad37ea",
   "metadata": {},
   "source": [
    "`Let's take a linear regression function to be:`\n",
    "- `y = b + w * x`"
   ]
  },
  {
   "cell_type": "code",
   "execution_count": 2,
   "id": "865ab445",
   "metadata": {},
   "outputs": [
    {
     "name": "stdout",
     "output_type": "stream",
     "text": [
      "Device: cpu\n"
     ]
    }
   ],
   "source": [
    "device = \"cuda\" if torch.cuda.is_available() else \"cpu\"\n",
    "print(f\"Device: {device}\")"
   ]
  },
  {
   "cell_type": "code",
   "execution_count": 3,
   "id": "3b30241a",
   "metadata": {},
   "outputs": [
    {
     "name": "stdout",
     "output_type": "stream",
     "text": [
      "w: tensor([2., 5.]) \n",
      "b: 1.0\n"
     ]
    }
   ],
   "source": [
    "w = torch.tensor([2, 5], dtype=torch.float, device=device)\n",
    "b = torch.scalar_tensor(1, dtype=torch.float, device=device)\n",
    "print(f\"w: {w} \\nb: {b}\")"
   ]
  },
  {
   "cell_type": "code",
   "execution_count": 4,
   "id": "513b7e09",
   "metadata": {},
   "outputs": [],
   "source": [
    "# Creating Data Points and it's label from ture function\n",
    "torch.manual_seed(42)\n",
    "\n",
    "x = torch.randn(size=(100, 2), dtype=torch.float, device=device)\n",
    "y = torch.matmul(torch.reshape(w, (1, 2)), torch.t(x)) + b"
   ]
  },
  {
   "cell_type": "code",
   "execution_count": 5,
   "id": "612386ae",
   "metadata": {},
   "outputs": [
    {
     "data": {
      "text/plain": [
       "torch.Size([1, 100])"
      ]
     },
     "execution_count": 5,
     "metadata": {},
     "output_type": "execute_result"
    }
   ],
   "source": [
    "y.shape"
   ]
  },
  {
   "cell_type": "markdown",
   "id": "ce601391",
   "metadata": {},
   "source": [
    "## The `backward` method"
   ]
  },
  {
   "cell_type": "code",
   "execution_count": 6,
   "id": "397cf96e",
   "metadata": {},
   "outputs": [],
   "source": [
    "# Creating Parameters\n",
    "pt_w = torch.randn((1, 2), dtype=torch.float, requires_grad=True, device=device)\n",
    "pt_b = torch.randn((1), dtype=torch.float, requires_grad=True, device=device)"
   ]
  },
  {
   "cell_type": "code",
   "execution_count": 7,
   "id": "bd13ec28",
   "metadata": {},
   "outputs": [],
   "source": [
    "y_hat = torch.matmul(pt_w, torch.t(x)) + pt_b\n",
    "\n",
    "error = (y_hat - y)\n",
    "loss = (error**2).mean()"
   ]
  },
  {
   "cell_type": "code",
   "execution_count": 8,
   "id": "6043d6c2",
   "metadata": {},
   "outputs": [],
   "source": [
    "loss.backward()"
   ]
  },
  {
   "cell_type": "code",
   "execution_count": 9,
   "id": "5da49362",
   "metadata": {},
   "outputs": [
    {
     "name": "stdout",
     "output_type": "stream",
     "text": [
      "True True True True\n",
      "False False\n"
     ]
    }
   ],
   "source": [
    "print(error.requires_grad, y_hat.requires_grad, \\\n",
    "      pt_w.requires_grad, pt_b.requires_grad)\n",
    "print(y.requires_grad, x.requires_grad)"
   ]
  },
  {
   "cell_type": "code",
   "execution_count": 10,
   "id": "f1c06375",
   "metadata": {},
   "outputs": [
    {
     "name": "stdout",
     "output_type": "stream",
     "text": [
      "tensor([[ -7.3571, -10.8245]]) tensor([-4.8556])\n"
     ]
    }
   ],
   "source": [
    "print(pt_w.grad, pt_b.grad)"
   ]
  },
  {
   "cell_type": "markdown",
   "id": "816ef669",
   "metadata": {},
   "source": [
    "`Running the calculation of y_hat, error and then loss.backward() accumulates the gradient of parameter`"
   ]
  },
  {
   "cell_type": "markdown",
   "id": "e3d935ce",
   "metadata": {},
   "source": [
    "### The `zero_` method"
   ]
  },
  {
   "cell_type": "markdown",
   "id": "b91b4daa",
   "metadata": {},
   "source": [
    "`Every time we use the gradients to update the parameters, we need to zero the gradients afterward. And that is what zero_() is good for.`"
   ]
  },
  {
   "cell_type": "code",
   "execution_count": 11,
   "id": "0c68d7ec",
   "metadata": {},
   "outputs": [
    {
     "name": "stdout",
     "output_type": "stream",
     "text": [
      "tensor([[0., 0.]]) tensor([0.])\n"
     ]
    }
   ],
   "source": [
    "print(pt_w.grad.zero_(), pt_b.grad.zero_())"
   ]
  },
  {
   "cell_type": "markdown",
   "id": "aa00b182",
   "metadata": {},
   "source": [
    "## Updating Parameters"
   ]
  },
  {
   "cell_type": "markdown",
   "id": "08bc811a",
   "metadata": {},
   "source": [
    "`Different approaches to update the parameters`\n",
    "- `Updating the trainable parameters individually by reassigning the weights (using assignment operator \"=\"), marking the gradient as zero in each iteration`\n",
    "- `Updating the trainable parameters by in-place python assignment`\n",
    "- `Using no_grad method to update the trainable parameters`"
   ]
  },
  {
   "cell_type": "code",
   "execution_count": 12,
   "id": "afd37e16",
   "metadata": {},
   "outputs": [],
   "source": [
    "n_epochs = 1000\n",
    "device = \"cuda\" if torch.cuda.is_available() else \"cpu\"\n",
    "lr = 0.001"
   ]
  },
  {
   "cell_type": "markdown",
   "id": "81b47ab9",
   "metadata": {},
   "source": [
    "### First Approach"
   ]
  },
  {
   "cell_type": "code",
   "execution_count": 13,
   "id": "3abdc8bf",
   "metadata": {},
   "outputs": [],
   "source": [
    "# Initializing the weights\n",
    "pt_w = torch.randn((1, 2), dtype=torch.float, requires_grad=True, device=device)\n",
    "pt_b = torch.randn((1), dtype=torch.float, requires_grad=True, device=device)"
   ]
  },
  {
   "cell_type": "code",
   "execution_count": 14,
   "id": "a3d1d23f",
   "metadata": {},
   "outputs": [
    {
     "name": "stdout",
     "output_type": "stream",
     "text": [
      "0\n"
     ]
    },
    {
     "name": "stderr",
     "output_type": "stream",
     "text": [
      "/opt/homebrew/Caskroom/miniforge/base/envs/pytorch/lib/python3.8/site-packages/torch/_tensor.py:1083: UserWarning: The .grad attribute of a Tensor that is not a leaf Tensor is being accessed. Its .grad attribute won't be populated during autograd.backward(). If you indeed want the .grad field to be populated for a non-leaf Tensor, use .retain_grad() on the non-leaf Tensor. If you access the non-leaf Tensor by mistake, make sure you access the leaf Tensor instead. See github.com/pytorch/pytorch/pull/30531 for more informations. (Triggered internally at  /Users/runner/work/_temp/anaconda/conda-bld/pytorch_1659484780698/work/build/aten/src/ATen/core/TensorBody.h:482.)\n",
      "  return self._grad\n"
     ]
    },
    {
     "ename": "AttributeError",
     "evalue": "'NoneType' object has no attribute 'zero_'",
     "output_type": "error",
     "traceback": [
      "\u001b[0;31m---------------------------------------------------------------------------\u001b[0m",
      "\u001b[0;31mAttributeError\u001b[0m                            Traceback (most recent call last)",
      "Cell \u001b[0;32mIn [14], line 16\u001b[0m\n\u001b[1;32m     13\u001b[0m     pt_b \u001b[38;5;241m=\u001b[39m pt_b \u001b[38;5;241m-\u001b[39m lr\u001b[38;5;241m*\u001b[39mpt_b\u001b[38;5;241m.\u001b[39mgrad\n\u001b[1;32m     15\u001b[0m     \u001b[38;5;66;03m# Resetting the values of gradients\u001b[39;00m\n\u001b[0;32m---> 16\u001b[0m     \u001b[43mpt_w\u001b[49m\u001b[38;5;241;43m.\u001b[39;49m\u001b[43mgrad\u001b[49m\u001b[38;5;241;43m.\u001b[39;49m\u001b[43mzero_\u001b[49m()\n\u001b[1;32m     17\u001b[0m     pt_b\u001b[38;5;241m.\u001b[39mgrad\u001b[38;5;241m.\u001b[39mzero_()\n\u001b[1;32m     19\u001b[0m \u001b[38;5;28mprint\u001b[39m(pt_b, pt_w)\n",
      "\u001b[0;31mAttributeError\u001b[0m: 'NoneType' object has no attribute 'zero_'"
     ]
    }
   ],
   "source": [
    "for epoch in range(n_epochs):\n",
    "    print(epoch)\n",
    "    # Forward propagation\n",
    "    y_hat = torch.add(pt_b, torch.matmul(pt_w, torch.t(x)))\n",
    "\n",
    "    error = (y_hat - y)\n",
    "    loss = (error**2).mean()\n",
    "\n",
    "    # Backward Propagation\n",
    "    loss.backward()\n",
    "\n",
    "    pt_w = pt_w - lr*pt_w.grad\n",
    "    pt_b = pt_b - lr*pt_b.grad\n",
    "\n",
    "    # Resetting the values of gradients\n",
    "    pt_w.grad.zero_()\n",
    "    pt_b.grad.zero_()\n",
    "    \n",
    "print(pt_b, pt_w)"
   ]
  },
  {
   "cell_type": "markdown",
   "id": "68f65f35",
   "metadata": {},
   "source": [
    "### Second Approach"
   ]
  },
  {
   "cell_type": "code",
   "execution_count": 15,
   "id": "44599eea",
   "metadata": {},
   "outputs": [],
   "source": [
    "# Initializing the weights\n",
    "pt_w = torch.randn((1, 2), dtype=torch.float, requires_grad=True, device=device)\n",
    "pt_b = torch.randn((1), dtype=torch.float, requires_grad=True, device=device)"
   ]
  },
  {
   "cell_type": "code",
   "execution_count": 16,
   "id": "09fc4755",
   "metadata": {},
   "outputs": [
    {
     "name": "stdout",
     "output_type": "stream",
     "text": [
      "0\n"
     ]
    },
    {
     "ename": "RuntimeError",
     "evalue": "a leaf Variable that requires grad is being used in an in-place operation.",
     "output_type": "error",
     "traceback": [
      "\u001b[0;31m---------------------------------------------------------------------------\u001b[0m",
      "\u001b[0;31mRuntimeError\u001b[0m                              Traceback (most recent call last)",
      "Cell \u001b[0;32mIn [16], line 12\u001b[0m\n\u001b[1;32m      9\u001b[0m \u001b[38;5;66;03m# Backward Propagation\u001b[39;00m\n\u001b[1;32m     10\u001b[0m loss\u001b[38;5;241m.\u001b[39mbackward()\n\u001b[0;32m---> 12\u001b[0m pt_w \u001b[38;5;241m-\u001b[39m\u001b[38;5;241m=\u001b[39m lr\u001b[38;5;241m*\u001b[39mpt_w\u001b[38;5;241m.\u001b[39mgrad\n\u001b[1;32m     13\u001b[0m pt_b \u001b[38;5;241m-\u001b[39m\u001b[38;5;241m=\u001b[39m lr\u001b[38;5;241m*\u001b[39mpt_b\u001b[38;5;241m.\u001b[39mgrad\n\u001b[1;32m     15\u001b[0m \u001b[38;5;66;03m# Resetting the values of gradients\u001b[39;00m\n",
      "\u001b[0;31mRuntimeError\u001b[0m: a leaf Variable that requires grad is being used in an in-place operation."
     ]
    }
   ],
   "source": [
    "for epoch in range(n_epochs):\n",
    "    print(epoch)\n",
    "    # Forward propagation\n",
    "    y_hat = torch.add(pt_b, torch.matmul(pt_w, torch.t(x)))\n",
    "\n",
    "    error = (y_hat - y)\n",
    "    loss = (error**2).mean()\n",
    "\n",
    "    # Backward Propagation\n",
    "    loss.backward()\n",
    "\n",
    "    pt_w -= lr*pt_w.grad\n",
    "    pt_b -= lr*pt_b.grad\n",
    "\n",
    "    # Resetting the values of gradients\n",
    "    pt_w.grad.zero_()\n",
    "    pt_b.grad.zero_()\n",
    "    \n",
    "print(pt_b, pt_w)"
   ]
  },
  {
   "cell_type": "markdown",
   "id": "53047714",
   "metadata": {},
   "source": [
    "### Third Approach"
   ]
  },
  {
   "cell_type": "code",
   "execution_count": 18,
   "id": "bfce7c5b",
   "metadata": {},
   "outputs": [],
   "source": [
    "# Initializing the weights\n",
    "pt_w = torch.randn((1, 2), dtype=torch.float, requires_grad=True, device=device)\n",
    "pt_b = torch.randn((1), dtype=torch.float, requires_grad=True, device=device)"
   ]
  },
  {
   "cell_type": "code",
   "execution_count": 20,
   "id": "f7fabdcc",
   "metadata": {},
   "outputs": [
    {
     "name": "stderr",
     "output_type": "stream",
     "text": [
      "100%|███████████████████████████████████████████████████████████████████████████████████████████████████████████████████████████████████████████████████████| 1000/1000 [00:00<00:00, 10642.50it/s]"
     ]
    },
    {
     "name": "stdout",
     "output_type": "stream",
     "text": [
      "tensor([1.0050], requires_grad=True) tensor([[1.7841, 4.4107]], requires_grad=True)\n"
     ]
    },
    {
     "name": "stderr",
     "output_type": "stream",
     "text": [
      "\n"
     ]
    }
   ],
   "source": [
    "for epoch in tqdm(range(n_epochs)):\n",
    "    # Forward propagation\n",
    "    y_hat = torch.add(pt_b, torch.matmul(pt_w, torch.t(x)))\n",
    "\n",
    "    error = (y_hat - y)\n",
    "    loss = (error**2).mean()\n",
    "\n",
    "    # Backward Propagation\n",
    "    loss.backward()\n",
    "    \n",
    "    with torch.no_grad():\n",
    "        pt_w -= lr*pt_w.grad\n",
    "        pt_b -= lr*pt_b.grad\n",
    "\n",
    "    # Resetting the values of gradients\n",
    "    pt_w.grad.zero_()\n",
    "    pt_b.grad.zero_()\n",
    "    \n",
    "print(pt_b, pt_w)"
   ]
  },
  {
   "cell_type": "markdown",
   "id": "b9c588fa",
   "metadata": {},
   "source": [
    "`In above 2nd attempts, pytorch throws error because of dymanic computation graph. To avoid that we use no_grad() method to update the parameters.`"
   ]
  },
  {
   "cell_type": "code",
   "execution_count": null,
   "id": "ef31cd57",
   "metadata": {},
   "outputs": [],
   "source": []
  },
  {
   "cell_type": "code",
   "execution_count": null,
   "id": "0bffa593",
   "metadata": {},
   "outputs": [],
   "source": []
  }
 ],
 "metadata": {
  "kernelspec": {
   "display_name": "Python [conda env:pytorch] *",
   "language": "python",
   "name": "conda-env-pytorch-py"
  },
  "language_info": {
   "codemirror_mode": {
    "name": "ipython",
    "version": 3
   },
   "file_extension": ".py",
   "mimetype": "text/x-python",
   "name": "python",
   "nbconvert_exporter": "python",
   "pygments_lexer": "ipython3",
   "version": "3.8.13"
  },
  "toc": {
   "base_numbering": 1,
   "nav_menu": {},
   "number_sections": true,
   "sideBar": true,
   "skip_h1_title": false,
   "title_cell": "Table of Contents",
   "title_sidebar": "Contents",
   "toc_cell": true,
   "toc_position": {
    "height": "calc(100% - 180px)",
    "left": "10px",
    "top": "150px",
    "width": "165px"
   },
   "toc_section_display": true,
   "toc_window_display": true
  }
 },
 "nbformat": 4,
 "nbformat_minor": 5
}
